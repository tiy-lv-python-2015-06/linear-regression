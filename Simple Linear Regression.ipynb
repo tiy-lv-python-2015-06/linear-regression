{
 "cells": [
  {
   "cell_type": "code",
   "execution_count": 241,
   "metadata": {
    "collapsed": false
   },
   "outputs": [],
   "source": [
    "import pandas as pd\n",
    "import matplotlib.pyplot as plt\n",
    "import numpy as np\n",
    "from sklearn import linear_model\n",
    "%matplotlib inline\n",
    "import itertools"
   ]
  },
  {
   "cell_type": "markdown",
   "metadata": {},
   "source": [
    "## Ground Cricket Chirps\n",
    "\n",
    "In _The Song of Insects_ (1948) by George W. Pierce, Pierce mechanically measured the frequency (the number of wing vibrations per second) of chirps (or pulses of sound) made by a striped ground cricket, at various ground temperatures.  Since crickets are ectotherms (cold-blooded), the rate of their physiological processes and their overall metabolism are influenced by temperature.  Consequently, there is reason to believe that temperature would have a profound effect on aspects of their behavior, such as chirp frequency.\n",
    "\n",
    "In general, it was found that crickets did not sing at temperatures colder than 60º F. or warmer than 100º F."
   ]
  },
  {
   "cell_type": "code",
   "execution_count": 242,
   "metadata": {
    "collapsed": false
   },
   "outputs": [],
   "source": [
    "ground_cricket_data = {\"Chirps/Second\": [20.0, 16.0, 19.8, 18.4, 17.1, 15.5, 14.7,\n",
    "                                         15.7, 15.4, 16.3, 15.0, 17.2, 16.0, 17.0,\n",
    "                                         14.4],\n",
    "                       \"Ground Temperature\": [88.6, 71.6, 93.3, 84.3, 80.6, 75.2, 69.7,\n",
    "                                              71.6, 69.4, 83.3, 79.6, 82.6, 80.6, 83.5,\n",
    "                                              76.3]}\n",
    "df = pd.DataFrame(ground_cricket_data)"
   ]
  },
  {
   "cell_type": "code",
   "execution_count": 243,
   "metadata": {
    "collapsed": false
   },
   "outputs": [],
   "source": [
    "def interpolate_data(y,m,b):\n",
    "    x = (y-b)/ m\n",
    "    return x"
   ]
  },
  {
   "cell_type": "code",
   "execution_count": 244,
   "metadata": {
    "collapsed": false,
    "scrolled": true
   },
   "outputs": [
    {
     "name": "stdout",
     "output_type": "stream",
     "text": [
      "The equation for the line is m = 0.20299973140771355 and b = 0.4593146452359598\n",
      "The score of the equation is 0.6922946529146998\n",
      "The CPS for a temp of 95 is 19.744289128968745\n",
      "The temp at 18 CPS is 86.40743134548568\n"
     ]
    },
    {
     "data": {
      "image/png": "[encoded data removed]",
      "text/plain": [
       "<matplotlib.figure.Figure at 0x118f7d828>"
      ]
     },
     "metadata": {},
     "output_type": "display_data"
    }
   ],
   "source": [
    "#Create the LinearRegression Object\n",
    "crick_reg = linear_model.LinearRegression()\n",
    "\n",
    "#Turn the cricket Data into a DataFrame\n",
    "ground_cricket_df = pd.DataFrame(ground_cricket_data)\n",
    "\n",
    "#Turn the temp into a verticle array\n",
    "crick_x = np.array(ground_cricket_df['Ground Temperature'].values).reshape((-1,1))\n",
    "\n",
    "#Turn the ground temp into an array\n",
    "crick_y =np.array((ground_cricket_df['Chirps/Second'].values))\n",
    "\n",
    "#Get the Linear Regression\n",
    "crick_reg.fit(crick_x, crick_y)\n",
    "\n",
    "#Print the Equation:\n",
    "print('The equation for the line is m = {} and b = {}'.format(crick_reg.coef_[0], crick_reg.intercept_))\n",
    "\n",
    "plt.scatter(cric_x, crick_y)\n",
    "plt.scatter(86.40743134548568,18)\n",
    "plt.plot(crick_x, crick_reg.predict(cric_x), color='blue')\n",
    "\n",
    "#Print the score for the equtation\n",
    "print('The score of the equation is {}'.format(crick_reg.score(crick_x, crick_y)))\n",
    "\n",
    "#Predict the CPS for temp of 95\n",
    "print('The CPS for a temp of 95 is {}'.format(crick_reg.predict(95)[0]))\n",
    "\n",
    "#Interpolate the data for 18 CPS (option a)\n",
    "def interpolate_data(y,m,b):\n",
    "    x = (y-b)/ m\n",
    "    return x\n",
    "print('The temp at 18 CPS is {}'.format(interpolate_data(18,crick_reg.coef_, crick_reg.intercept_)[0]))"
   ]
  },
  {
   "cell_type": "code",
   "execution_count": 245,
   "metadata": {
    "collapsed": false
   },
   "outputs": [
    {
     "name": "stdout",
     "output_type": "stream",
     "text": [
      "The temp at 18 CPS is 86.40743134548568\n"
     ]
    }
   ],
   "source": [
    "#Create the LinearRegression Object\n",
    "crick_reg2 = linear_model.LinearRegression()\n",
    "\n",
    "#Turn the cricket Data into a DataFrame\n",
    "ground_cricket_df2 = pd.DataFrame(ground_cricket_data)\n",
    "\n",
    "#Turn the temp into a verticle array\n",
    "crick_x2 = np.array(ground_cricket_df2['Chirps/Second'].values).reshape((-1,1))\n",
    "'Ground Temperature'\n",
    "#Turn the ground temp into an array\n",
    "crick_y2 =np.array((ground_cricket_df2['Ground Temperature'].values))\n",
    "\n",
    "#Get the Linear Regression\n",
    "crick_reg2.fit(crick_x2, crick_y2)\n",
    "\n",
    "#Option 2\n",
    "print('The temp at 18 CPS is {}'.format(interpolate_data(18,crick_reg.coef_, crick_reg.intercept_)[0]))"
   ]
  },
  {
   "cell_type": "markdown",
   "metadata": {},
   "source": [
    "### Tasks\n",
    "\n",
    "1. Find the linear regression equation for this data.\n",
    "2. Chart the original data and the equation on the chart.\n",
    "3. Find the equation's $R^2$ score (use the `.score` method) to determine whether the\n",
    "equation is a good fit for this data. (0.8 and greater is considered a strong correlation.)\n",
    "4. Extrapolate data:  If the ground temperature reached 95, then at what approximate rate would you expect the crickets to be chirping?\n",
    "5. Interpolate data:  With a listening device, you discovered that on a particular morning the crickets were chirping at a rate of 18 chirps per second.  What was the approximate ground temperature that morning? "
   ]
  },
  {
   "cell_type": "markdown",
   "metadata": {},
   "source": [
    "## Brain vs. Body Weight\n",
    "\n",
    "In the file `brain_body.txt`, the average brain and body weight for a number of mammal species are recorded. Load this data into a Pandas data frame.\n",
    "\n",
    "### Tasks\n",
    "\n",
    "1. Find the linear regression equation for this data for brain weight to body weight.\n",
    "2. Chart the original data and the equation on the chart.\n",
    "3. Find the equation's $R^2$ score (use the `.score` method) to determine whether the\n",
    "equation is a good fit for this data. (0.8 and greater is considered a strong correlation.)"
   ]
  },
  {
   "cell_type": "code",
   "execution_count": 247,
   "metadata": {
    "collapsed": false
   },
   "outputs": [
    {
     "name": "stdout",
     "output_type": "stream",
     "text": [
      "0.872662084304\n"
     ]
    },
    {
     "data": {
      "text/plain": [
       "<function matplotlib.pyplot.show>"
      ]
     },
     "execution_count": 247,
     "metadata": {},
     "output_type": "execute_result"
    },
    {
     "data": {
      "image/png": "[encoded data removed]",
      "text/plain": [
       "<matplotlib.figure.Figure at 0x1185c7f60>"
      ]
     },
     "metadata": {},
     "output_type": "display_data"
    }
   ],
   "source": [
    "df = pd.read_fwf(\"brain_body.txt\")\n",
    "\n",
    "#Create the LinearRegression Object\n",
    "brain_reg = linear_model.LinearRegression()\n",
    "\n",
    "#create the x and y values\n",
    "brain_x = np.array(df.Brain.values.reshape((-1,1)))\n",
    "brain_y = np.array(df.Body.values)\n",
    "\n",
    "#get the Lineral Regression\n",
    "brain_reg.fit(brain_x,brain_y)\n",
    "\n",
    "# Get the linReg Score\n",
    "print(brain_reg.score(brain_x, brain_y))\n",
    "\n",
    "#Plot it\n",
    "plt.scatter(brain_x, brain_y)\n",
    "plt.plot(brain_x, brain_reg.predict(brain_x), color='blue')\n",
    "plt.show"
   ]
  },
  {
   "cell_type": "markdown",
   "metadata": {},
   "source": [
    "## Salary Discrimination\n",
    "\n",
    "The file `salary.txt` contains data for 52 tenure-track professors at a small Midwestern college. This data was used in legal proceedings in the 1980s about discrimination against women in salary.\n",
    "\n",
    "The data in the file, by column:\n",
    "\n",
    "1. Sex. 1 for female, 0 for male.\n",
    "2. Rank. 1 for assistant professor, 2 for associate professor, 3 for full professor.\n",
    "3. Year. Number of years in current rank.\n",
    "4. Degree. Highest degree. 1 for doctorate, 0 for master's.\n",
    "5. YSdeg. Years since highest degree was earned.\n",
    "6. Salary. Salary/year in dollars.\n",
    "\n",
    "### Tasks\n",
    "\n",
    "1. Find the linear regression equation for this data using columns 1-5 to column 6.\n",
    "2. Find the selection of columns with the best $R^2$ score.\n",
    "3. Report whether sex is a factor in salary."
   ]
  },
  {
   "cell_type": "code",
   "execution_count": 248,
   "metadata": {
    "collapsed": false
   },
   "outputs": [
    {
     "name": "stdout",
     "output_type": "stream",
     "text": [
      "   Sex  Rank  Year  Degree  YSdeg  Salary\n",
      "0    0     3    25       1     35   36350\n",
      "1    0     3    13       1     22   35350\n",
      "2    0     3    10       1     23   28200\n",
      "3    1     3     7       1     27   26775\n",
      "4    0     3    19       0     30   33696\n"
     ]
    }
   ],
   "source": [
    "df = pd.read_fwf(\"salary.txt\", header=None, \n",
    "                 names=[\"Sex\", \"Rank\", \"Year\", \"Degree\", \"YSdeg\", \"Salary\"])\n",
    "print(df.head())"
   ]
  },
  {
   "cell_type": "code",
   "execution_count": 259,
   "metadata": {
    "collapsed": true
   },
   "outputs": [],
   "source": [
    "def regression_for(combo):\n",
    "    combo = list(combo)\n",
    "    df = features.loc[:, combo + ['Salary']]\n",
    "    df.dropna(inplace=True)\n",
    "    input_data = df[combo]\n",
    "    salary = df['Salary']\n",
    "    regr = linear_model.LinearRegression()\n",
    "    regr.fit(input_data, salary)\n",
    "    return regr, regr.score(input_data, salary)"
   ]
  },
  {
   "cell_type": "code",
   "execution_count": 305,
   "metadata": {
    "collapsed": false
   },
   "outputs": [
    {
     "name": "stdout",
     "output_type": "stream",
     "text": [
      "The list of variables most linked to salary is \n",
      "('Sex', 'Rank', 'Year', 'Degree', 'YSdeg')\n",
      "With a score of 0.8547180674410968\n",
      "And a coeffciant of [ 1241.7924996   5586.18144952   482.85976783 -1331.64406341  -128.79057354]\n",
      "\n",
      "\n",
      "\n",
      "The coeffciant for the slop of the sex vs salary line is -3339.6466165413503\n",
      "\n",
      "As Sex in part of the list of most linked variables, and it has a negative coeffciant(because women are 1 on the list), we can conclude that there is a negative corrolation between being a women and earning a higher salary in this data\n"
     ]
    }
   ],
   "source": [
    "df = pd.read_fwf(\"salary.txt\", header=None, \n",
    "                 names=[\"Sex\", \"Rank\", \"Year\", \"Degree\", \"YSdeg\", \"Salary\"])\n",
    "#Prepare the data\n",
    "features = df\n",
    "salary = np.array(df['Salary'].values)\n",
    "dependent_vars = list(features.columns)\n",
    "dependent_vars.remove('Salary')\n",
    "\n",
    "#Find the most linked variables\n",
    "choices = []\n",
    "for x in range(2,6):\n",
    "    combos = list(itertools.combinations(dependent_vars, x))\n",
    "    for combo in combos:\n",
    "        regr, score = regression_for(combo)\n",
    "        choices.append((combo, score))\n",
    "        \n",
    "# Display the most linked variable\n",
    "best = sorted(choices, key=lambda x: x[1])[-1]\n",
    "regr, score = regression_for(best[0])\n",
    "print('The list of variables most linked to salary is \\n{}\\nWith a score of {}\\nAnd a coeffciant of {}'.format(best[0], best[1], regr.coef_))\n",
    "print('\\n\\n')\n",
    "\n",
    "# See if sex is linked to salary:\n",
    "sex_reg = linear_model.LinearRegression()\n",
    "df_x = np.array(df['Sex'].values.reshape((-1,1)))\n",
    "df_y = np.array(df['Salary'].values)\n",
    "sex_reg.fit(df_x, df_y)\n",
    "print('The coeffciant for the slop of the sex vs salary line is {}'.format(sex_reg.coef_[0]))\n",
    "print('\\nAs Sex in part of the list of most linked variables, and it has a negative coeffciant'\n",
    "      '(because women are 1 on the list), we can conclude that there is a negative corrolation '\n",
    "      'between being a women and earning a higher salary in this data')"
   ]
  },
  {
   "cell_type": "code",
   "execution_count": null,
   "metadata": {
    "collapsed": true
   },
   "outputs": [],
   "source": []
  },
  {
   "cell_type": "code",
   "execution_count": null,
   "metadata": {
    "collapsed": true
   },
   "outputs": [],
   "source": []
  }
 ],
 "metadata": {
  "kernelspec": {
   "display_name": "Python 3",
   "language": "python",
   "name": "python3"
  },
  "language_info": {
   "codemirror_mode": {
    "name": "ipython",
    "version": 3
   },
   "file_extension": ".py",
   "mimetype": "text/x-python",
   "name": "python",
   "nbconvert_exporter": "python",
   "pygments_lexer": "ipython3",
   "version": "3.4.3"
  }
 },
 "nbformat": 4,
 "nbformat_minor": 0
}
